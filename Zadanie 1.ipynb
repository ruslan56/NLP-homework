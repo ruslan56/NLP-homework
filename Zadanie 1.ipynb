{
 "cells": [
  {
   "cell_type": "code",
   "execution_count": 1,
   "metadata": {
    "collapsed": true
   },
   "outputs": [],
   "source": [
    "import numpy as np"
   ]
  },
  {
   "cell_type": "code",
   "execution_count": 2,
   "metadata": {
    "collapsed": false
   },
   "outputs": [],
   "source": [
    "f = open(\"SMSSpamCollection\", encoding=\"utf8\")\n",
    "text = f.read()"
   ]
  },
  {
   "cell_type": "code",
   "execution_count": 3,
   "metadata": {
    "collapsed": false
   },
   "outputs": [],
   "source": [
    "mes = text.split(\"\\n\")"
   ]
  },
  {
   "cell_type": "code",
   "execution_count": 4,
   "metadata": {
    "collapsed": false
   },
   "outputs": [],
   "source": [
    "N = len(mes) - 1\n",
    "data = []\n",
    "label = np.zeros(N)\n",
    "labelmap = {\"spam\": 1, \"ham\": 0}\n",
    "for i in range(N):\n",
    "    lab, sms = mes[i].split(\"\\t\")\n",
    "    data.append(sms)\n",
    "    label[i] = labelmap[lab]"
   ]
  },
  {
   "cell_type": "code",
   "execution_count": 5,
   "metadata": {
    "collapsed": false
   },
   "outputs": [
    {
     "data": {
      "text/plain": [
       "5574"
      ]
     },
     "execution_count": 5,
     "metadata": {},
     "output_type": "execute_result"
    }
   ],
   "source": [
    "N"
   ]
  },
  {
   "cell_type": "code",
   "execution_count": 6,
   "metadata": {
    "collapsed": false
   },
   "outputs": [
    {
     "data": {
      "text/plain": [
       "747.0"
      ]
     },
     "execution_count": 6,
     "metadata": {},
     "output_type": "execute_result"
    }
   ],
   "source": [
    "label.sum()"
   ]
  },
  {
   "cell_type": "code",
   "execution_count": 7,
   "metadata": {
    "collapsed": true
   },
   "outputs": [],
   "source": [
    "from sklearn.feature_extraction.text import CountVectorizer"
   ]
  },
  {
   "cell_type": "code",
   "execution_count": 78,
   "metadata": {
    "collapsed": false
   },
   "outputs": [],
   "source": [
    "vectorizer = CountVectorizer()\n",
    "X = vectorizer.fit_transform(data)"
   ]
  },
  {
   "cell_type": "code",
   "execution_count": 9,
   "metadata": {
    "collapsed": false
   },
   "outputs": [
    {
     "data": {
      "text/plain": [
       "8713"
      ]
     },
     "execution_count": 9,
     "metadata": {},
     "output_type": "execute_result"
    }
   ],
   "source": [
    "len(vectorizer.get_feature_names())"
   ]
  },
  {
   "cell_type": "markdown",
   "metadata": {},
   "source": [
    "### LogisticRegression"
   ]
  },
  {
   "cell_type": "code",
   "execution_count": 79,
   "metadata": {
    "collapsed": false
   },
   "outputs": [],
   "source": [
    "from sklearn.linear_model import LogisticRegression\n",
    "from sklearn.cross_validation import cross_val_score"
   ]
  },
  {
   "cell_type": "code",
   "execution_count": 80,
   "metadata": {
    "collapsed": false
   },
   "outputs": [
    {
     "name": "stdout",
     "output_type": "stream",
     "text": [
      "0.9333\n"
     ]
    }
   ],
   "source": [
    "clf = LogisticRegression()\n",
    "res = cross_val_score(clf, X, label, scoring=\"f1\", cv=10)\n",
    "print(\"%.4f\" % res.mean())"
   ]
  },
  {
   "cell_type": "code",
   "execution_count": 81,
   "metadata": {
    "collapsed": true
   },
   "outputs": [],
   "source": [
    "Test = [\"FreeMsg: Txt: CALL to No: 86888 & claim your reward of 3 hours talk time to use from your phone now! Subscribe6GB\",\n",
    "\"FreeMsg: Txt: claim your reward of 3 hours talk time\",\n",
    "\"Have you visited the last lecture on physics?\",\n",
    "\"Have you visited the last lecture on physics? Just buy this book and you will have all materials! Only 99$\",\n",
    "\"Only 99$\"] "
   ]
  },
  {
   "cell_type": "code",
   "execution_count": 82,
   "metadata": {
    "collapsed": false
   },
   "outputs": [],
   "source": [
    "X_Test = vectorizer.transform(Test)"
   ]
  },
  {
   "cell_type": "code",
   "execution_count": 83,
   "metadata": {
    "collapsed": false
   },
   "outputs": [
    {
     "name": "stdout",
     "output_type": "stream",
     "text": [
      "[ 1.  1.  0.  0.  0.]\n"
     ]
    }
   ],
   "source": [
    "clf = LogisticRegression()\n",
    "clf.fit(X, label)\n",
    "print(clf.predict(X_Test))"
   ]
  },
  {
   "cell_type": "markdown",
   "metadata": {},
   "source": [
    "### LogisticRegression на различных n-граммах"
   ]
  },
  {
   "cell_type": "code",
   "execution_count": 16,
   "metadata": {
    "collapsed": false
   },
   "outputs": [
    {
     "name": "stdout",
     "output_type": "stream",
     "text": [
      "(2, 2) :  0.82\n",
      "(3, 3) :  0.73\n",
      "(1, 3) :  0.93\n",
      "(1, 1) :  0.93\n"
     ]
    }
   ],
   "source": [
    "ngram_ranges = [(2, 2), (3, 3), (1, 3), (1, 1)]\n",
    "for ngram in ngram_ranges:\n",
    "    vectorizer = CountVectorizer(ngram_range=ngram)\n",
    "    X = vectorizer.fit_transform(data)\n",
    "    clf = LogisticRegression()\n",
    "    res = cross_val_score(clf, X, label, scoring=\"f1\", cv=10)\n",
    "    print(ngram, \": \", \"%.2f\" % res.mean())"
   ]
  },
  {
   "cell_type": "markdown",
   "metadata": {},
   "source": [
    "### MultinomialNB"
   ]
  },
  {
   "cell_type": "code",
   "execution_count": 17,
   "metadata": {
    "collapsed": false
   },
   "outputs": [
    {
     "name": "stdout",
     "output_type": "stream",
     "text": [
      "(2, 2) :  0.65\n",
      "(3, 3) :  0.38\n",
      "(1, 3) :  0.89\n",
      "(1, 1) :  0.93\n"
     ]
    }
   ],
   "source": [
    "from sklearn.naive_bayes import MultinomialNB\n",
    "ngram_ranges = [(2, 2), (3, 3), (1, 3), (1, 1)]\n",
    "for ngram in ngram_ranges:\n",
    "    vectorizer = CountVectorizer(ngram_range=ngram)\n",
    "    X = vectorizer.fit_transform(data)\n",
    "    clf = MultinomialNB()\n",
    "    res = cross_val_score(clf, X, label, scoring=\"f1\", cv=10)\n",
    "    print(ngram, \": \", \"%.2f\" % res.mean())"
   ]
  },
  {
   "cell_type": "markdown",
   "metadata": {},
   "source": [
    "## Tfidf"
   ]
  },
  {
   "cell_type": "code",
   "execution_count": 18,
   "metadata": {
    "collapsed": false
   },
   "outputs": [
    {
     "name": "stdout",
     "output_type": "stream",
     "text": [
      "0.85\n"
     ]
    }
   ],
   "source": [
    "from sklearn.feature_extraction.text import TfidfVectorizer\n",
    "tfidf = TfidfVectorizer(ngram_range = (1, 1))\n",
    "X = tfidf.fit_transform(data)\n",
    "clf = LogisticRegression()\n",
    "res = cross_val_score(clf, X, label, scoring=\"f1\", cv=10)\n",
    "print(\"%.2f\" % res.mean())"
   ]
  },
  {
   "cell_type": "markdown",
   "metadata": {},
   "source": [
    "### Можно улучшить результат если рассмотреть еще символьные n-граммы"
   ]
  },
  {
   "cell_type": "code",
   "execution_count": 19,
   "metadata": {
    "collapsed": true
   },
   "outputs": [],
   "source": [
    "from sklearn.pipeline import FeatureUnion"
   ]
  },
  {
   "cell_type": "code",
   "execution_count": 62,
   "metadata": {
    "collapsed": false
   },
   "outputs": [],
   "source": [
    "vectorizer_char = CountVectorizer(min_df = 2, max_df = 200, ngram_range = (3, 5), analyzer=\"char\")\n",
    "vectorizer_word = CountVectorizer(min_df = 2, ngram_range = (1, 2), analyzer=\"word\")\n",
    "combined_features = FeatureUnion([(\"word\", vectorizer_word), (\"char\", vectorizer_char)])\n",
    "X = combined_features.fit_transform(data)"
   ]
  },
  {
   "cell_type": "code",
   "execution_count": 63,
   "metadata": {
    "collapsed": false
   },
   "outputs": [],
   "source": [
    "from sklearn.svm import LinearSVC"
   ]
  },
  {
   "cell_type": "code",
   "execution_count": 64,
   "metadata": {
    "collapsed": false
   },
   "outputs": [
    {
     "name": "stdout",
     "output_type": "stream",
     "text": [
      "0.9614\n"
     ]
    }
   ],
   "source": [
    "clf = MultinomialNB()\n",
    "res = cross_val_score(clf, X, label, scoring=\"f1\", cv=10)\n",
    "print(\"%.4f\" % res.mean())"
   ]
  },
  {
   "cell_type": "code",
   "execution_count": 72,
   "metadata": {
    "collapsed": false
   },
   "outputs": [
    {
     "name": "stdout",
     "output_type": "stream",
     "text": [
      "logreg: 0.9477\n",
      "svc: 0.9529\n"
     ]
    }
   ],
   "source": [
    "logreg = LogisticRegression()\n",
    "svc = LinearSVC()\n",
    "res = cross_val_score(logreg, X, label, scoring=\"f1\", cv=10)\n",
    "print(\"logreg: \" \"%.4f\" % res.mean())\n",
    "res = cross_val_score(svc, X, label, scoring=\"f1\", cv=10)\n",
    "print(\"svc: \" \"%.4f\" % res.mean())"
   ]
  },
  {
   "cell_type": "markdown",
   "metadata": {},
   "source": [
    "### Добавим SVD"
   ]
  },
  {
   "cell_type": "code",
   "execution_count": 74,
   "metadata": {
    "collapsed": true
   },
   "outputs": [],
   "source": [
    "from sklearn.decomposition import TruncatedSVD"
   ]
  },
  {
   "cell_type": "code",
   "execution_count": 75,
   "metadata": {
    "collapsed": false
   },
   "outputs": [
    {
     "name": "stdout",
     "output_type": "stream",
     "text": [
      "logreg: 0.9631\n",
      "svc: 0.9559\n"
     ]
    }
   ],
   "source": [
    "svd = TruncatedSVD(n_components=100, n_iter=7, random_state=42)\n",
    "X_SVD = svd.fit_transform(X)\n",
    "res = cross_val_score(logreg, X_SVD, label, scoring=\"f1\", cv=10)\n",
    "print(\"logreg: \" \"%.4f\" % res.mean())\n",
    "res = cross_val_score(svc, X_SVD, label, scoring=\"f1\", cv=10)\n",
    "print(\"svc: \" \"%.4f\" % res.mean())"
   ]
  },
  {
   "cell_type": "markdown",
   "metadata": {
    "collapsed": true
   },
   "source": [
    "### Вывод \n",
    "Используя простые признаки как мешок слов можно неплохо решать некоторые задачи анализа текстов.\n",
    "Лучшими признаками среди рассмотренных n-грамм являются 1-граммы слов.\n"
   ]
  }
 ],
 "metadata": {
  "kernelspec": {
   "display_name": "Python 3",
   "language": "python",
   "name": "python3"
  },
  "language_info": {
   "codemirror_mode": {
    "name": "ipython",
    "version": 3
   },
   "file_extension": ".py",
   "mimetype": "text/x-python",
   "name": "python",
   "nbconvert_exporter": "python",
   "pygments_lexer": "ipython3",
   "version": "3.5.2"
  }
 },
 "nbformat": 4,
 "nbformat_minor": 0
}
