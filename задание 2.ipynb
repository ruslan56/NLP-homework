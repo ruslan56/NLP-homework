{
 "cells": [
  {
   "cell_type": "code",
   "execution_count": 3,
   "metadata": {
    "collapsed": false
   },
   "outputs": [],
   "source": [
    "import pandas as ps\n",
    "from sklearn.feature_extraction.text import CountVectorizer\n",
    "import math\n",
    "import numpy as np\n",
    "from sklearn.cluster import KMeans\n",
    "from sklearn.decomposition import TruncatedSVD\n",
    "from gensim.models import doc2vec\n",
    "from collections import namedtuple\n",
    "import matplotlib.pyplot as plt\n",
    "from matplotlib.colors import ListedColormap\n",
    "import nltk\n",
    "from nltk.collocations import *"
   ]
  },
  {
   "cell_type": "markdown",
   "metadata": {},
   "source": [
    "### Скачаем dataset  и уберем пустые письма"
   ]
  },
  {
   "cell_type": "code",
   "execution_count": 5,
   "metadata": {
    "collapsed": false
   },
   "outputs": [
    {
     "data": {
      "text/plain": [
       "6742"
      ]
     },
     "execution_count": 5,
     "metadata": {},
     "output_type": "execute_result"
    }
   ],
   "source": [
    "data = ps.read_csv(\"Emails.csv\")\n",
    "text = data[\"ExtractedBodyText\"]\n",
    "text.fillna(\"\", inplace=True)\n",
    "text = text[text!=\"\"]\n",
    "text = list(text)\n",
    "len(text)"
   ]
  },
  {
   "cell_type": "code",
   "execution_count": 6,
   "metadata": {
    "collapsed": false
   },
   "outputs": [],
   "source": [
    "del data"
   ]
  },
  {
   "cell_type": "code",
   "execution_count": 98,
   "metadata": {
    "collapsed": false
   },
   "outputs": [
    {
     "data": {
      "text/plain": [
       "6742"
      ]
     },
     "execution_count": 98,
     "metadata": {},
     "output_type": "execute_result"
    }
   ],
   "source": [
    "len(text)"
   ]
  },
  {
   "cell_type": "markdown",
   "metadata": {},
   "source": [
    "### Посмотрим на самые частые биграммы"
   ]
  },
  {
   "cell_type": "code",
   "execution_count": 7,
   "metadata": {
    "collapsed": false
   },
   "outputs": [
    {
     "data": {
      "text/plain": [
       "[('of the', 3360),\n",
       " ('in the', 2536),\n",
       " ('to the', 1466),\n",
       " ('on the', 1341),\n",
       " ('for the', 1059),\n",
       " ('and the', 1057),\n",
       " ('that the', 791),\n",
       " ('to be', 785),\n",
       " ('state gov', 761),\n",
       " ('with the', 754),\n",
       " ('at the', 716),\n",
       " ('of state', 596),\n",
       " ('it is', 573),\n",
       " ('will be', 569),\n",
       " ('by the', 523),\n",
       " ('from the', 510),\n",
       " ('the united', 462),\n",
       " ('secretary office', 460),\n",
       " ('state department', 455),\n",
       " ('united states', 449)]"
      ]
     },
     "execution_count": 7,
     "metadata": {},
     "output_type": "execute_result"
    }
   ],
   "source": [
    "vect = CountVectorizer(ngram_range = (2, 2), min_df = 2)\n",
    "X = vect.fit_transform(text)\n",
    "bigram_freq = list(zip(vect.get_feature_names(), np.asarray(X.sum(axis=0)).ravel()))\n",
    "bigram_freq.sort(key=lambda a: a[1], reverse=True)\n",
    "bigram_freq[:20]"
   ]
  },
  {
   "cell_type": "markdown",
   "metadata": {},
   "source": [
    "### Сольем все письма в один лист из слов и выделим коллокации по PMI"
   ]
  },
  {
   "cell_type": "code",
   "execution_count": 8,
   "metadata": {
    "collapsed": false
   },
   "outputs": [],
   "source": [
    "vect = CountVectorizer(min_df = 2)\n",
    "X = vect.fit_transform(text)\n",
    "words = vect.inverse_transform(X)\n",
    "words_merge = [words[i][j] for i in range(len(words)) for j in range(len(words[i]))]"
   ]
  },
  {
   "cell_type": "code",
   "execution_count": 15,
   "metadata": {
    "collapsed": false,
    "scrolled": true
   },
   "outputs": [
    {
     "data": {
      "text/plain": [
       "[('4g', 'lte'),\n",
       " ('6421', '9598'),\n",
       " ('ashfaq', 'parvez'),\n",
       " ('brent', 'scowcroft'),\n",
       " ('buenos', 'aires'),\n",
       " ('judea', 'samaria'),\n",
       " ('achilles', 'heel'),\n",
       " ('lois', 'quam'),\n",
       " ('mehmood', 'qureshi'),\n",
       " ('parvez', 'kayani'),\n",
       " ('swine', 'flu'),\n",
       " ('1626', 'ltstrategy'),\n",
       " ('aung', 'suu'),\n",
       " ('lame', 'duck'),\n",
       " ('suu', 'kyi'),\n",
       " ('3959', 'dobb'),\n",
       " ('hongju', '6421'),\n",
       " ('roy', 'spence'),\n",
       " ('sherman', 'wendy'),\n",
       " ('23d3', 'f75e')]"
      ]
     },
     "execution_count": 15,
     "metadata": {},
     "output_type": "execute_result"
    }
   ],
   "source": [
    "bigram_measures = nltk.collocations.BigramAssocMeasures()\n",
    "finder = BigramCollocationFinder.from_words(\n",
    "   words_merge)\n",
    "finder.apply_freq_filter(4)\n",
    "finder.nbest(bigram_measures.pmi, 20)"
   ]
  },
  {
   "cell_type": "markdown",
   "metadata": {},
   "source": [
    "### Сделаем KMeans"
   ]
  },
  {
   "cell_type": "code",
   "execution_count": 24,
   "metadata": {
    "collapsed": false
   },
   "outputs": [
    {
     "data": {
      "text/plain": [
       "0    6491\n",
       "2     203\n",
       "4      29\n",
       "1      16\n",
       "3       3\n",
       "dtype: int64"
      ]
     },
     "execution_count": 24,
     "metadata": {},
     "output_type": "execute_result"
    }
   ],
   "source": [
    "vect = CountVectorizer(min_df = 4)\n",
    "X = vect.fit_transform(text)\n",
    "kmeans = KMeans(n_clusters=5, random_state=1).fit(X)\n",
    "labels = kmeans.labels_\n",
    "ps.Series(labels).value_counts()"
   ]
  },
  {
   "cell_type": "markdown",
   "metadata": {},
   "source": [
    "### C SVD получаются такие же кластеры..."
   ]
  },
  {
   "cell_type": "code",
   "execution_count": 36,
   "metadata": {
    "collapsed": false
   },
   "outputs": [
    {
     "data": {
      "text/plain": [
       "0    6491\n",
       "2     203\n",
       "4      29\n",
       "1      16\n",
       "3       3\n",
       "dtype: int64"
      ]
     },
     "execution_count": 36,
     "metadata": {},
     "output_type": "execute_result"
    }
   ],
   "source": [
    "SVD = TruncatedSVD(n_components=100)\n",
    "X_SVD = SVD.fit_transform(X)\n",
    "kmeans.fit(X_SVD)\n",
    "labels = kmeans.labels_\n",
    "ps.Series(labels).value_counts()"
   ]
  },
  {
   "cell_type": "code",
   "execution_count": 39,
   "metadata": {
    "collapsed": true
   },
   "outputs": [],
   "source": [
    "import matplotlib.pyplot as plt\n",
    "from matplotlib.colors import ListedColormap"
   ]
  },
  {
   "cell_type": "markdown",
   "metadata": {
    "collapsed": true
   },
   "source": [
    "### Обучим doc2vec"
   ]
  },
  {
   "cell_type": "code",
   "execution_count": 59,
   "metadata": {
    "collapsed": false
   },
   "outputs": [],
   "source": [
    "vect = CountVectorizer(min_df = 1)\n",
    "X = vect.fit_transform(text)\n",
    "text_list = vect.inverse_transform(X)\n",
    "docs = []\n",
    "analyzedDocument = namedtuple(\"tuple\", 'words tags')\n",
    "for i, mail in enumerate(text_list):\n",
    "    tags = [i]\n",
    "    docs.append(analyzedDocument(list(mail), tags))"
   ]
  },
  {
   "cell_type": "code",
   "execution_count": 66,
   "metadata": {
    "collapsed": false
   },
   "outputs": [],
   "source": [
    "model = doc2vec.Doc2Vec(docs, size = 50, window = 300, min_count = 4, workers = 4)"
   ]
  },
  {
   "cell_type": "code",
   "execution_count": 68,
   "metadata": {
    "collapsed": false
   },
   "outputs": [
    {
     "data": {
      "text/plain": [
       "0    3196\n",
       "7    1716\n",
       "8     992\n",
       "5     434\n",
       "3     188\n",
       "1      83\n",
       "6      81\n",
       "9      30\n",
       "4      13\n",
       "2       9\n",
       "dtype: int64"
      ]
     },
     "execution_count": 68,
     "metadata": {},
     "output_type": "execute_result"
    }
   ],
   "source": [
    "kmeans = KMeans(n_clusters=10)\n",
    "kmeans.fit(model.docvecs)\n",
    "labels = kmeans.labels_\n",
    "ps.Series(labels).value_counts()"
   ]
  },
  {
   "cell_type": "code",
   "execution_count": 39,
   "metadata": {
    "collapsed": true
   },
   "outputs": [],
   "source": [
    "del docs"
   ]
  },
  {
   "cell_type": "code",
   "execution_count": 40,
   "metadata": {
    "collapsed": true
   },
   "outputs": [],
   "source": [
    "del analyzedDocument"
   ]
  },
  {
   "cell_type": "markdown",
   "metadata": {},
   "source": [
    "### Сделаем три кластера: 0, 7 и остальное"
   ]
  },
  {
   "cell_type": "code",
   "execution_count": 72,
   "metadata": {
    "collapsed": false
   },
   "outputs": [],
   "source": [
    "for i in range(len(labels)):\n",
    "    if labels[i] == 7:\n",
    "        labels[i] = 1\n",
    "    elif labels[i] != 0:\n",
    "        labels[i] = 2"
   ]
  },
  {
   "cell_type": "code",
   "execution_count": 74,
   "metadata": {
    "collapsed": false
   },
   "outputs": [
    {
     "data": {
      "text/plain": [
       "0    3196\n",
       "2    1830\n",
       "1    1716\n",
       "dtype: int64"
      ]
     },
     "execution_count": 74,
     "metadata": {},
     "output_type": "execute_result"
    }
   ],
   "source": [
    "ps.Series(labels).value_counts()"
   ]
  },
  {
   "cell_type": "code",
   "execution_count": 75,
   "metadata": {
    "collapsed": true
   },
   "outputs": [],
   "source": [
    "SVD = TruncatedSVD(n_components=2)\n",
    "doc_SVD = SVD.fit_transform(model.docvecs)"
   ]
  },
  {
   "cell_type": "code",
   "execution_count": 89,
   "metadata": {
    "collapsed": true
   },
   "outputs": [],
   "source": [
    "%matplotlib inline"
   ]
  },
  {
   "cell_type": "code",
   "execution_count": 93,
   "metadata": {
    "collapsed": false
   },
   "outputs": [
    {
     "data": {
      "image/png": "[encoded data removed]",
      "text/plain": [
       "<matplotlib.figure.Figure at 0xc55c2b0>"
      ]
     },
     "metadata": {},
     "output_type": "display_data"
    }
   ],
   "source": [
    "cmap_bold = ListedColormap(['#FF0000', '#00FF00', '#0000FF'])\n",
    "plt.figure(figsize=(10,10))\n",
    "plt.scatter(doc_SVD[:, 0], doc_SVD[:,1], c=labels, cmap=cmap_bold)\n",
    "plt.show()"
   ]
  },
  {
   "cell_type": "code",
   "execution_count": 99,
   "metadata": {
    "collapsed": true
   },
   "outputs": [],
   "source": [
    "def most_common(text_):\n",
    "    X = vect.fit_transform(text_)\n",
    "    freq = list(zip(vect.get_feature_names(), np.asarray(X.sum(axis=0)).ravel()))\n",
    "    freq.sort(key=lambda a: a[1], reverse=True)\n",
    "    return freq[:20]"
   ]
  },
  {
   "cell_type": "code",
   "execution_count": 103,
   "metadata": {
    "collapsed": false
   },
   "outputs": [
    {
     "data": {
      "text/plain": [
       "[('pm', 595),\n",
       " ('secretary', 277),\n",
       " ('30', 245),\n",
       " ('are', 239),\n",
       " ('office', 239),\n",
       " ('from', 230),\n",
       " ('he', 225),\n",
       " ('re', 202),\n",
       " ('but', 200),\n",
       " ('your', 193),\n",
       " ('as', 187),\n",
       " ('see', 184),\n",
       " ('2010', 179),\n",
       " ('if', 177),\n",
       " ('2009', 176),\n",
       " ('so', 176),\n",
       " ('00', 175),\n",
       " ('10', 174),\n",
       " ('no', 172),\n",
       " ('what', 166)]"
      ]
     },
     "execution_count": 103,
     "metadata": {},
     "output_type": "execute_result"
    }
   ],
   "source": [
    "vect = CountVectorizer(ngram_range = (1, 1), max_df = 200)\n",
    "text_0 = []\n",
    "text_1 = []\n",
    "for i in range(len(text)):\n",
    "    if labels[i] == 0:\n",
    "        text_0.append(text[i])\n",
    "    if labels[i] == 1:\n",
    "        text_1.append(text[i])\n",
    "most_common(text_0)    "
   ]
  },
  {
   "cell_type": "code",
   "execution_count": 104,
   "metadata": {
    "collapsed": false
   },
   "outputs": [
    {
     "data": {
      "text/plain": [
       "[('pm', 308),\n",
       " ('he', 236),\n",
       " ('me', 213),\n",
       " ('but', 212),\n",
       " ('are', 210),\n",
       " ('so', 204),\n",
       " ('do', 202),\n",
       " ('if', 192),\n",
       " ('as', 185),\n",
       " ('your', 178),\n",
       " ('from', 173),\n",
       " ('office', 171),\n",
       " ('re', 171),\n",
       " ('secretary', 169),\n",
       " ('see', 168),\n",
       " ('about', 157),\n",
       " ('gov', 155),\n",
       " ('get', 151),\n",
       " ('what', 150),\n",
       " ('him', 147)]"
      ]
     },
     "execution_count": 104,
     "metadata": {},
     "output_type": "execute_result"
    }
   ],
   "source": [
    "most_common(text_1)"
   ]
  }
 ],
 "metadata": {
  "kernelspec": {
   "display_name": "Python 3",
   "language": "python",
   "name": "python3"
  },
  "language_info": {
   "codemirror_mode": {
    "name": "ipython",
    "version": 3
   },
   "file_extension": ".py",
   "mimetype": "text/x-python",
   "name": "python",
   "nbconvert_exporter": "python",
   "pygments_lexer": "ipython3",
   "version": "3.5.1"
  }
 },
 "nbformat": 4,
 "nbformat_minor": 2
}
